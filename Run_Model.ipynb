{
  "nbformat": 4,
  "nbformat_minor": 0,
  "metadata": {
    "colab": {
      "provenance": [],
      "gpuType": "T4",
      "authorship_tag": "ABX9TyNtu5+kVR9pY/T74Ni3Ni7s",
      "include_colab_link": true
    },
    "kernelspec": {
      "name": "python3",
      "display_name": "Python 3"
    },
    "language_info": {
      "name": "python"
    },
    "accelerator": "GPU"
  },
  "cells": [
    {
      "cell_type": "markdown",
      "metadata": {
        "id": "view-in-github",
        "colab_type": "text"
      },
      "source": [
        "<a href=\"https://colab.research.google.com/github/NajlaaNawaii/Multilingual-Stable-Diffusion-Towards-more-Inclusive-Text-To-Image-Synthesis/blob/main/Run_Model.ipynb\" target=\"_parent\"><img src=\"https://colab.research.google.com/assets/colab-badge.svg\" alt=\"Open In Colab\"/></a>"
      ]
    },
    {
      "cell_type": "markdown",
      "source": [
        "\n",
        "# Run all The cells\n",
        "\n",
        "# Enter you HuggingFace Token\n",
        "\n",
        "#Enter the prompts in ANY of the 40 Languages!"
      ],
      "metadata": {
        "id": "zcsmXjww0ct1"
      }
    },
    {
      "cell_type": "code",
      "execution_count": null,
      "metadata": {
        "colab": {
          "base_uri": "https://localhost:8080/"
        },
        "id": "ziQjL6y1NI5R",
        "outputId": "0ca0305f-fc3c-4d76-c143-4f3324f085ad"
      },
      "outputs": [
        {
          "output_type": "stream",
          "name": "stdout",
          "text": [
            "Cloning into 'Multilingual-Stable-Diffusion-Towards-more-Inclusive-Text-To-Image-Synthesis'...\n",
            "remote: Enumerating objects: 205, done.\u001b[K\n",
            "remote: Counting objects: 100% (118/118), done.\u001b[K\n",
            "remote: Compressing objects: 100% (93/93), done.\u001b[K\n",
            "remote: Total 205 (delta 40), reused 81 (delta 19), pack-reused 87\u001b[K\n",
            "Receiving objects: 100% (205/205), 58.03 MiB | 17.63 MiB/s, done.\n",
            "Resolving deltas: 100% (51/51), done.\n"
          ]
        }
      ],
      "source": [
        "!git clone  https://github.com/NajlaaNawaii/Multilingual-Stable-Diffusion-Towards-more-Inclusive-Text-To-Image-Synthesis.git"
      ]
    },
    {
      "cell_type": "code",
      "source": [
        "%cd /content/Multilingual-Stable-Diffusion-Towards-more-Inclusive-Text-To-Image-Synthesis\n"
      ],
      "metadata": {
        "colab": {
          "base_uri": "https://localhost:8080/"
        },
        "id": "maepaxI2NVZU",
        "outputId": "c5b82bd4-c9da-4a7b-dac8-6f60b09875b2"
      },
      "execution_count": null,
      "outputs": [
        {
          "output_type": "stream",
          "name": "stdout",
          "text": [
            "/content/Multilingual-Stable-Diffusion-Towards-more-Inclusive-Text-To-Image-Synthesis\n"
          ]
        }
      ]
    },
    {
      "cell_type": "code",
      "source": [
        "%ls"
      ],
      "metadata": {
        "colab": {
          "base_uri": "https://localhost:8080/"
        },
        "id": "0PVGDStxOKlq",
        "outputId": "10d3616b-d788-4cf7-de10-d0614740cfdb"
      },
      "execution_count": null,
      "outputs": [
        {
          "output_type": "stream",
          "name": "stdout",
          "text": [
            "Adapter_layer_Training_pipeline.ipynb  \u001b[0m\u001b[01;34mMultilingual_CLIP\u001b[0m/                             \u001b[01;34mWieghts\u001b[0m/\n",
            "\u001b[01;34mImages\u001b[0m/                                Multilingual_Stable_Diffusion_Inference.ipynb\n",
            "LICENSE                                README.md\n"
          ]
        }
      ]
    },
    {
      "cell_type": "code",
      "source": [
        "%run  Multilingual_Stable_Diffusion_Inference.ipynb\n"
      ],
      "metadata": {
        "id": "jUQb_YSMN9nR"
      },
      "execution_count": null,
      "outputs": []
    },
    {
      "cell_type": "code",
      "source": [],
      "metadata": {
        "id": "XxcTGS1angXI"
      },
      "execution_count": null,
      "outputs": []
    }
  ]
}