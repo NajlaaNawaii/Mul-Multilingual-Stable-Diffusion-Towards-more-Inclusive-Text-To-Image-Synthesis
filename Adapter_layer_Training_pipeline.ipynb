{
  "cells": [
    {
      "cell_type": "markdown",
      "metadata": {
        "id": "view-in-github",
        "colab_type": "text"
      },
      "source": [
        "<a href=\"https://colab.research.google.com/github/NajlaaNawaii/Multilingual-Stable-Diffusion-Towards-more-Inclusive-Text-To-Image-Synthesis/blob/main/Adapter_layer_Training_pipeline.ipynb\" target=\"_parent\"><img src=\"https://colab.research.google.com/assets/colab-badge.svg\" alt=\"Open In Colab\"/></a>"
      ]
    },
    {
      "cell_type": "code",
      "execution_count": null,
      "metadata": {
        "id": "xm6D6b8KWAO0"
      },
      "outputs": [],
      "source": [
        "!pip install datasets transformers diffusers==0.2.4 -q\n"
      ]
    },
    {
      "cell_type": "code",
      "execution_count": null,
      "metadata": {
        "id": "Jgu4arVUB_gj"
      },
      "outputs": [],
      "source": [
        "import os\n",
        "from PIL import Image, ImageDraw\n",
        "import cv2\n",
        "import numpy as np\n",
        "from IPython.display import HTML\n",
        "from base64 import b64encode\n",
        "\n",
        "import torch\n",
        "from torch import autocast\n",
        "from torch.nn import functional as F\n",
        "from diffusers import StableDiffusionPipeline, AutoencoderKL\n",
        "from diffusers import UNet2DConditionModel, PNDMScheduler, LMSDiscreteScheduler\n",
        "from diffusers.schedulers.scheduling_ddim import DDIMScheduler\n",
        "#from transformers import CLIPTextModel, CLIPTokenizer\n",
        "from tqdm.auto import tqdm\n",
        "from huggingface_hub import notebook_login\n",
        "from google.colab import output\n",
        "# upload external file before import\n",
        "from google.colab import files\n",
        "import helper\n",
        "\n",
        "device = 'cuda'"
      ]
    },
    {
      "cell_type": "code",
      "execution_count": null,
      "metadata": {
        "id": "Q6w2AKYEWNNs"
      },
      "outputs": [],
      "source": [
        "from datasets import load_dataset\n",
        "dataset = load_dataset(\"laion/laion2B-en\", data_files=\"part-00000-5114fd87-297e-42b0-9d11-50f1df323dfa-c000.snappy.parquet\")\n"
      ]
    },
    {
      "cell_type": "code",
      "execution_count": null,
      "metadata": {
        "id": "_-l_Y8ZukIsa"
      },
      "outputs": [],
      "source": [
        "dataset = dataset['train'][0:15500]"
      ]
    },
    {
      "cell_type": "code",
      "source": [
        "Text_Dataset = dataset['TEXT']"
      ],
      "metadata": {
        "id": "JE6feONJtVxr"
      },
      "execution_count": null,
      "outputs": []
    },
    {
      "cell_type": "code",
      "source": [
        "train_dataset=Text_Dataset[0:12500]"
      ],
      "metadata": {
        "id": "4Ebkxsuju7j4"
      },
      "execution_count": null,
      "outputs": []
    },
    {
      "cell_type": "code",
      "source": [
        "val_dataset=Text_Dataset[12500:15500]"
      ],
      "metadata": {
        "id": "T0R9Fh0IvOvp"
      },
      "execution_count": null,
      "outputs": []
    },
    {
      "cell_type": "markdown",
      "metadata": {
        "id": "x6kouP_3URI6"
      },
      "source": [
        "<H1> Steps:\n"
      ]
    },
    {
      "cell_type": "markdown",
      "metadata": {
        "id": "JUKiMjjq_VYm"
      },
      "source": [
        "<h3> 1. Get text models"
      ]
    },
    {
      "cell_type": "code",
      "execution_count": null,
      "metadata": {
        "id": "yOzvmcySVSX3"
      },
      "outputs": [],
      "source": [
        "!pip install multilingual-clip\n",
        "!pip install git+https://github.com/openai/CLIP.git\n"
      ]
    },
    {
      "cell_type": "code",
      "execution_count": null,
      "metadata": {
        "id": "ok23y6T8Vt26"
      },
      "outputs": [],
      "source": [
        "from multilingual_clip import pt_multilingual_clip\n",
        "import transformers\n",
        "from transformers import CLIPTextModel, CLIPTokenizer"
      ]
    },
    {
      "cell_type": "code",
      "execution_count": null,
      "metadata": {
        "id": "AUdFj7BglHN3"
      },
      "outputs": [],
      "source": [
        "from transformers import CLIPTextModel, CLIPTokenizer\n",
        "\n",
        "\n",
        "# Original CLIP\n",
        "tokenizer_p14 = CLIPTokenizer.from_pretrained('openai/clip-vit-large-patch14')\n",
        "text_encoder_p14 = CLIPTextModel.from_pretrained('openai/clip-vit-large-patch14')\n",
        "text_encoder_p14 = text_encoder_p14.to(device)\n",
        "\n",
        "\n",
        "# Multi-lingual CLIP\n",
        "model_name = 'M-CLIP/LABSE-Vit-L-14'\n",
        "text_tokenizer_Multi = transformers.AutoTokenizer.from_pretrained(model_name)\n",
        "text_model_Multi = pt_multilingual_clip.MultilingualCLIP.from_pretrained(model_name)\n",
        "text_model_Multi = text_model_Multi.to(device)\n",
        "\n",
        "\n",
        "\n",
        "\n",
        "\n"
      ]
    },
    {
      "cell_type": "markdown",
      "source": [
        "<h3> 2. Get dataset"
      ],
      "metadata": {
        "id": "RNWZFnfCtv70"
      }
    },
    {
      "cell_type": "markdown",
      "source": [
        "<h2> data shape ===> (sentences, tokens, embed)"
      ],
      "metadata": {
        "id": "_QUWqOsqOgOK"
      }
    },
    {
      "cell_type": "code",
      "source": [
        "from torch.utils.data import Dataset, DataLoader\n",
        "\n",
        "\n",
        "class Data(Dataset):\n",
        "    def __init__(self, df):\n",
        "      with torch.no_grad():\n",
        "        text_input_p14 = tokenizer_p14(\n",
        "                          df[0:1000], padding='max_length', max_length=tokenizer_p14.model_max_length,\n",
        "                          truncation=True, return_tensors='pt')\n",
        "        self.y = text_encoder_p14(text_input_p14.input_ids.to(device))[0]\n",
        "        self.x =  text_model_Multi(df[0:1000], text_tokenizer_Multi, device)\n",
        "        i = 1000\n",
        "        n = len(df)\n",
        "        while i+1000 <= n:\n",
        "            torch.cuda.empty_cache()\n",
        "            text_input_p14 = tokenizer_p14(\n",
        "                          df[i:i+1000], padding='max_length', max_length=tokenizer_p14.model_max_length,\n",
        "                          truncation=True, return_tensors='pt')\n",
        "            self.y = torch.cat((self.y, text_encoder_p14(text_input_p14.input_ids.to(device))[0]))\n",
        "            self.x = torch.cat((self.x, text_model_Multi(df[i:i+1000], text_tokenizer_Multi, device)))\n",
        "            i +=  1000\n",
        "\n",
        "\n",
        "\n",
        "    def __getitem__(self,index):\n",
        "        return self.x[index], self.y[index]\n",
        "\n",
        "    def __len__(self):\n",
        "        return len(self.y)"
      ],
      "metadata": {
        "id": "X-hPcwXTt5YK"
      },
      "execution_count": null,
      "outputs": []
    },
    {
      "cell_type": "code",
      "source": [
        "def train(model, criterion, train_loader, val_loader, optimizer, checkpoint, epochs=100):\n",
        "    useful_stuff = {'training_loss':[], 'validation_accuracy':[]}\n",
        "\n",
        "    for epoch in range(epochs):\n",
        "        for i, (x, y) in enumerate(train_loader):\n",
        "            model.train()\n",
        "            optimizer.zero_grad()\n",
        "            prediction = model(x)\n",
        "            loss = criterion(prediction, y)\n",
        "            loss.backward()\n",
        "            optimizer.step()\n",
        "            useful_stuff['training_loss'].append(loss.data.item())\n",
        "\n",
        "        for i, (x, y) in enumerate(val_loader):\n",
        "            model.eval()\n",
        "            optimizer.zero_grad()\n",
        "\n",
        "            prediction = model(x)\n",
        "\n",
        "            loss = criterion(prediction, y)\n",
        "            useful_stuff['validation_accuracy'].append(loss.data.item())\n",
        "\n",
        "        if epoch%10 == 0:\n",
        "          print(\"epoch \", epoch, \":\")\n",
        "          print(\"val: \", int(useful_stuff['validation_accuracy'][-1]*10000)/10000.0, \"tr: \", int(useful_stuff['training_loss'][-1]*10000)/10000.0)\n",
        "          torch.save(model.state_dict(), checkpoint)\n",
        "          # download checkpoint file\n",
        "\n",
        "\n",
        "    return useful_stuff"
      ],
      "metadata": {
        "id": "r2k2Y0hKSvPI"
      },
      "execution_count": null,
      "outputs": []
    },
    {
      "cell_type": "code",
      "source": [
        "train_dataset = Data(train_dataset)\n",
        "val_dataset = Data(val_dataset)\n",
        "\n"
      ],
      "metadata": {
        "id": "B4NDLClEQQBc",
        "colab": {
          "base_uri": "https://localhost:8080/"
        },
        "outputId": "6b852a46-5040-49b6-9164-89cac1912187"
      },
      "execution_count": null,
      "outputs": [
        {
          "output_type": "stream",
          "name": "stdout",
          "text": [
            "odict_keys(['last_hidden_state', 'pooler_output'])\n",
            "odict_keys(['last_hidden_state', 'pooler_output'])\n",
            "odict_keys(['last_hidden_state', 'pooler_output'])\n",
            "odict_keys(['last_hidden_state', 'pooler_output'])\n",
            "odict_keys(['last_hidden_state', 'pooler_output'])\n",
            "odict_keys(['last_hidden_state', 'pooler_output'])\n",
            "odict_keys(['last_hidden_state', 'pooler_output'])\n",
            "odict_keys(['last_hidden_state', 'pooler_output'])\n",
            "odict_keys(['last_hidden_state', 'pooler_output'])\n",
            "odict_keys(['last_hidden_state', 'pooler_output'])\n",
            "odict_keys(['last_hidden_state', 'pooler_output'])\n",
            "odict_keys(['last_hidden_state', 'pooler_output'])\n",
            "odict_keys(['last_hidden_state', 'pooler_output'])\n",
            "odict_keys(['last_hidden_state', 'pooler_output'])\n",
            "odict_keys(['last_hidden_state', 'pooler_output'])\n"
          ]
        }
      ]
    },
    {
      "cell_type": "markdown",
      "source": [
        "<h3>3. create the model class"
      ],
      "metadata": {
        "id": "39gO6nGoOczW"
      }
    },
    {
      "cell_type": "code",
      "source": [
        "import torch\n",
        "import torch.nn as nn\n",
        "\n",
        "class AdaptationLayer(nn.Module):\n",
        "  def __init__(self, input_dim, output_dim):\n",
        "    super(AdaptationLayer, self).__init__()\n",
        "    self.fc1 = nn.Linear(input_dim, output_dim*2)\n",
        "    torch.nn.init.kaiming_uniform_(self.fc1.weight, nonlinearity='relu')\n",
        "    self.bn1 = nn.BatchNorm1d(77)\n",
        "\n",
        "    self.fc2 = nn.Linear(input_dim*2, output_dim*2)\n",
        "    torch.nn.init.kaiming_uniform_(self.fc2.weight, nonlinearity='relu')\n",
        "    self.bn2 = nn.BatchNorm1d(77)\n",
        "\n",
        "    self.fc3 = nn.Linear(input_dim*2, output_dim)\n",
        "    torch.nn.init.kaiming_uniform_(self.fc3.weight, nonlinearity='relu')\n",
        "    self.bn3 = nn.BatchNorm1d(77)\n",
        "\n",
        "    self.fc4 = nn.Linear(input_dim, output_dim)\n",
        "    torch.nn.init.kaiming_uniform_(self.fc4.weight, nonlinearity='relu')\n",
        "    self.bn4 = nn.BatchNorm1d(77)\n",
        "\n",
        "    self.fc5 = nn.Linear(input_dim, output_dim)\n",
        "\n",
        "  def forward(self, x):\n",
        "    x = nn.functional.normalize(x, p=2.0, dim=1, eps=1e-12, out=None)\n",
        "    x = torch.relu(self.bn1(self.fc1(x)))\n",
        "    x = torch.relu(self.bn2(self.fc2(x)))\n",
        "    x = torch.relu(self.bn3(self.fc3(x)))\n",
        "    x = torch.relu(self.bn4(self.fc4(x)))\n",
        "\n",
        "    return self.fc5(x)"
      ],
      "metadata": {
        "id": "1fN81VxTdvW9"
      },
      "execution_count": null,
      "outputs": []
    },
    {
      "cell_type": "code",
      "source": [
        "train_loader = torch.utils.data.DataLoader(dataset=train_dataset, batch_size=32, shuffle=True)\n",
        "val_loader = torch.utils.data.DataLoader(dataset=val_dataset, batch_size=32, shuffle=True)\n",
        "\n",
        "model  = AdaptationLayer(768,768)\n",
        "model.to(device)\n",
        "#state_dict = torch.load('checkpoint_9.pth')\n",
        "#model.load_state_dict(state_dict)\n",
        "\n",
        "optimizer = torch.optim.Adam(model.parameters(), lr = 0.0003)\n",
        "criterion = nn.MSELoss()\n",
        "training_results = train(model, criterion, train_loader, val_loader, optimizer, 'new.pth', epochs=200)"
      ],
      "metadata": {
        "id": "5ix6vkesquCj",
        "colab": {
          "base_uri": "https://localhost:8080/",
          "height": 453
        },
        "outputId": "44a98ea8-d953-406c-c46c-5a2cbe090a58"
      },
      "execution_count": null,
      "outputs": [
        {
          "output_type": "stream",
          "name": "stdout",
          "text": [
            "epoch  0 :\n",
            "val:  0.8086 tr:  0.8036\n",
            "epoch  10 :\n",
            "val:  0.674 tr:  0.5941\n",
            "epoch  20 :\n",
            "val:  0.6924 tr:  0.5278\n"
          ]
        },
        {
          "output_type": "error",
          "ename": "KeyboardInterrupt",
          "evalue": "ignored",
          "traceback": [
            "\u001b[0;31m---------------------------------------------------------------------------\u001b[0m",
            "\u001b[0;31mKeyboardInterrupt\u001b[0m                         Traceback (most recent call last)",
            "\u001b[0;32m<ipython-input-15-7fb0069287a2>\u001b[0m in \u001b[0;36m<cell line: 11>\u001b[0;34m()\u001b[0m\n\u001b[1;32m      9\u001b[0m \u001b[0moptimizer\u001b[0m \u001b[0;34m=\u001b[0m \u001b[0mtorch\u001b[0m\u001b[0;34m.\u001b[0m\u001b[0moptim\u001b[0m\u001b[0;34m.\u001b[0m\u001b[0mAdam\u001b[0m\u001b[0;34m(\u001b[0m\u001b[0mmodel\u001b[0m\u001b[0;34m.\u001b[0m\u001b[0mparameters\u001b[0m\u001b[0;34m(\u001b[0m\u001b[0;34m)\u001b[0m\u001b[0;34m,\u001b[0m \u001b[0mlr\u001b[0m \u001b[0;34m=\u001b[0m \u001b[0;36m0.0003\u001b[0m\u001b[0;34m)\u001b[0m\u001b[0;34m\u001b[0m\u001b[0;34m\u001b[0m\u001b[0m\n\u001b[1;32m     10\u001b[0m \u001b[0mcriterion\u001b[0m \u001b[0;34m=\u001b[0m \u001b[0mnn\u001b[0m\u001b[0;34m.\u001b[0m\u001b[0mMSELoss\u001b[0m\u001b[0;34m(\u001b[0m\u001b[0;34m)\u001b[0m\u001b[0;34m\u001b[0m\u001b[0;34m\u001b[0m\u001b[0m\n\u001b[0;32m---> 11\u001b[0;31m \u001b[0mtraining_results\u001b[0m \u001b[0;34m=\u001b[0m \u001b[0mtrain\u001b[0m\u001b[0;34m(\u001b[0m\u001b[0mmodel\u001b[0m\u001b[0;34m,\u001b[0m \u001b[0mcriterion\u001b[0m\u001b[0;34m,\u001b[0m \u001b[0mtrain_loader\u001b[0m\u001b[0;34m,\u001b[0m \u001b[0mval_loader\u001b[0m\u001b[0;34m,\u001b[0m \u001b[0moptimizer\u001b[0m\u001b[0;34m,\u001b[0m \u001b[0;34m'new.pth'\u001b[0m\u001b[0;34m,\u001b[0m \u001b[0mepochs\u001b[0m\u001b[0;34m=\u001b[0m\u001b[0;36m200\u001b[0m\u001b[0;34m)\u001b[0m\u001b[0;34m\u001b[0m\u001b[0;34m\u001b[0m\u001b[0m\n\u001b[0m",
            "\u001b[0;32m<ipython-input-14-de4263626caf>\u001b[0m in \u001b[0;36mtrain\u001b[0;34m(model, criterion, train_loader, val_loader, optimizer, checkpoint, epochs)\u001b[0m\n\u001b[1;32m     10\u001b[0m             \u001b[0mloss\u001b[0m\u001b[0;34m.\u001b[0m\u001b[0mbackward\u001b[0m\u001b[0;34m(\u001b[0m\u001b[0;34m)\u001b[0m\u001b[0;34m\u001b[0m\u001b[0;34m\u001b[0m\u001b[0m\n\u001b[1;32m     11\u001b[0m             \u001b[0moptimizer\u001b[0m\u001b[0;34m.\u001b[0m\u001b[0mstep\u001b[0m\u001b[0;34m(\u001b[0m\u001b[0;34m)\u001b[0m\u001b[0;34m\u001b[0m\u001b[0;34m\u001b[0m\u001b[0m\n\u001b[0;32m---> 12\u001b[0;31m             \u001b[0museful_stuff\u001b[0m\u001b[0;34m[\u001b[0m\u001b[0;34m'training_loss'\u001b[0m\u001b[0;34m]\u001b[0m\u001b[0;34m.\u001b[0m\u001b[0mappend\u001b[0m\u001b[0;34m(\u001b[0m\u001b[0mloss\u001b[0m\u001b[0;34m.\u001b[0m\u001b[0mdata\u001b[0m\u001b[0;34m.\u001b[0m\u001b[0mitem\u001b[0m\u001b[0;34m(\u001b[0m\u001b[0;34m)\u001b[0m\u001b[0;34m)\u001b[0m\u001b[0;34m\u001b[0m\u001b[0;34m\u001b[0m\u001b[0m\n\u001b[0m\u001b[1;32m     13\u001b[0m \u001b[0;34m\u001b[0m\u001b[0m\n\u001b[1;32m     14\u001b[0m         \u001b[0;32mfor\u001b[0m \u001b[0mi\u001b[0m\u001b[0;34m,\u001b[0m \u001b[0;34m(\u001b[0m\u001b[0mx\u001b[0m\u001b[0;34m,\u001b[0m \u001b[0my\u001b[0m\u001b[0;34m)\u001b[0m \u001b[0;32min\u001b[0m \u001b[0menumerate\u001b[0m\u001b[0;34m(\u001b[0m\u001b[0mval_loader\u001b[0m\u001b[0;34m)\u001b[0m\u001b[0;34m:\u001b[0m\u001b[0;34m\u001b[0m\u001b[0;34m\u001b[0m\u001b[0m\n",
            "\u001b[0;31mKeyboardInterrupt\u001b[0m: "
          ]
        }
      ]
    },
    {
      "cell_type": "code",
      "source": [
        "import matplotlib.pyplot as plt\n",
        "\n",
        "plt.plot(training_results['training_loss'])"
      ],
      "metadata": {
        "id": "S_St-8zVuxh9"
      },
      "execution_count": null,
      "outputs": []
    },
    {
      "cell_type": "code",
      "source": [
        "plt.plot(training_results['validation_accuracy'])"
      ],
      "metadata": {
        "id": "8XgjazHS4xHA"
      },
      "execution_count": null,
      "outputs": []
    }
  ],
  "metadata": {
    "accelerator": "GPU",
    "colab": {
      "provenance": [],
      "include_colab_link": true
    },
    "gpuClass": "standard",
    "kernelspec": {
      "display_name": "Python 3",
      "name": "python3"
    },
    "language_info": {
      "name": "python"
    }
  },
  "nbformat": 4,
  "nbformat_minor": 0
}